{
 "cells": [
  {
   "cell_type": "code",
   "execution_count": 52,
   "metadata": {},
   "outputs": [
    {
     "name": "stdout",
     "output_type": "stream",
     "text": [
      "   0  1  2\n",
      "0  1  2  3\n",
      "1  a  b  c\n"
     ]
    }
   ],
   "source": [
    "import pandas as pd\n",
    "s1 = pd.Series([1,2,3])\n",
    "s2 = pd.Series(['a','b','c'])\n",
    "s3 = pd.DataFrame([s1,s2])###,index=[1,2,3])#,columns=[\"n1\",\"n2\",\"n3\"])\n",
    "print(s3)"
   ]
  },
  {
   "cell_type": "code",
   "execution_count": 56,
   "metadata": {},
   "outputs": [
    {
     "data": {
      "text/html": [
       "<div>\n",
       "<style scoped>\n",
       "    .dataframe tbody tr th:only-of-type {\n",
       "        vertical-align: middle;\n",
       "    }\n",
       "\n",
       "    .dataframe tbody tr th {\n",
       "        vertical-align: top;\n",
       "    }\n",
       "\n",
       "    .dataframe thead th {\n",
       "        text-align: right;\n",
       "    }\n",
       "</style>\n",
       "<table border=\"1\" class=\"dataframe\">\n",
       "  <thead>\n",
       "    <tr style=\"text-align: right;\">\n",
       "      <th></th>\n",
       "      <th>1</th>\n",
       "      <th>2</th>\n",
       "      <th>3</th>\n",
       "    </tr>\n",
       "  </thead>\n",
       "  <tbody>\n",
       "    <tr>\n",
       "      <th>r1</th>\n",
       "      <td>1</td>\n",
       "      <td>2</td>\n",
       "      <td>3</td>\n",
       "    </tr>\n",
       "    <tr>\n",
       "      <th>r2</th>\n",
       "      <td>Ash</td>\n",
       "      <td>Sid</td>\n",
       "      <td>Did</td>\n",
       "    </tr>\n",
       "  </tbody>\n",
       "</table>\n",
       "</div>"
      ],
      "text/plain": [
       "      1    2    3\n",
       "r1    1    2    3\n",
       "r2  Ash  Sid  Did"
      ]
     },
     "execution_count": 56,
     "metadata": {},
     "output_type": "execute_result"
    }
   ],
   "source": [
    "# assigning two series to s1 and s2 \n",
    "s1 = pd.Series([1,2,3]) \n",
    "s2 = pd.Series([\"Ash\", \"Sid\",\"Did\"]) \n",
    "# framing series objects into data \n",
    "df = pd.DataFrame([[1,2,3],[\"Ash\", \"Sid\",\"Did\"]],index=['r1','r2'],columns=['1','2','3']) \n",
    "# show the data frame \n",
    "df \n",
    "\n",
    "## data framing in another way taking index and column values \n",
    "#dframe = pd.DataFrame([[1,2],[\"Ashish\", \"Sid\"]], index=[\"r1\", \"r2\"],columns=[\"c1\", \"c2\"]) \n",
    "#dframe \n",
    "\n",
    "## framing in another way dict-like container \n",
    "#dframe = pd.DataFrame({\"c1\": [1, \"Ashish\"], \"c2\": [2, \"Sid\"]}) \n",
    "#dframe \n"
   ]
  },
  {
   "cell_type": "code",
   "execution_count": 9,
   "metadata": {},
   "outputs": [
    {
     "name": "stdout",
     "output_type": "stream",
     "text": [
      "      name  marks   %\n",
      "0    Harry    445  70\n",
      "1   Newton    345  35\n",
      "2  Johnson    237  30\n",
      "3   Goldie    430  65\n",
      "4    Happy    410  60\n"
     ]
    }
   ],
   "source": [
    "import pandas as pd\n",
    "output = pd.read_csv(\"C:\\\\Users\\\\nxf53356\\\\Documents\\\\jupyter-files\\\\test_data.csv\")\n",
    "print(output.head())"
   ]
  },
  {
   "cell_type": "code",
   "execution_count": 14,
   "metadata": {},
   "outputs": [
    {
     "name": "stdout",
     "output_type": "stream",
     "text": [
      "a    1\n",
      "b    3\n",
      "c    4\n",
      "d    5\n",
      "e    6\n",
      "f    2\n",
      "g    9\n",
      "dtype: int64\n",
      "a    1\n",
      "b    2\n",
      "c    3\n",
      "d    4\n",
      "e    5\n",
      "dtype: int64\n",
      "0    [2, 3, 4]\n",
      "1    [5, 6, 7]\n",
      "dtype: object\n"
     ]
    }
   ],
   "source": [
    "# Series is one dimensional(1-D) array defined in pandas that can be used to store any data type.\n",
    "\n",
    "# Program to Create series with scalar values  \n",
    "Data =[1, 3, 4, 5, 6, 2, 9]  # Numeric data \n",
    "  \n",
    "# Creating series with default index values \n",
    "s = pd.Series(Data)     \n",
    "  \n",
    "# predefined index values \n",
    "Index =['a', 'b', 'c', 'd', 'e', 'f', 'g']  \n",
    "  \n",
    "# Creating series with predefined index values \n",
    "si = pd.Series(Data, Index)\n",
    "print(si)\n",
    "\n",
    "# Program to Create Dictionary series \n",
    "dictionary ={'a':1, 'b':2, 'c':3, 'd':4, 'e':5}  \n",
    "\n",
    "##################################### \n",
    "# Creating series of Dictionary type \n",
    "sd = pd.Series(dictionary)\n",
    "print(sd)\n",
    "\n",
    "##############################################\n",
    "# Program to Create ndarray series \n",
    "Data =[[2, 3, 4], [5, 6, 7]]  # Defining 2darray \n",
    "  \n",
    "# Creating series of 2darray \n",
    "snd = pd.Series(Data) \n",
    "print(snd)"
   ]
  },
  {
   "cell_type": "code",
   "execution_count": 26,
   "metadata": {},
   "outputs": [
    {
     "name": "stdout",
     "output_type": "stream",
     "text": [
      "   first  second\n",
      "a    1.0       5\n",
      "b    2.0       6\n",
      "c    3.0       7\n",
      "d    4.0       8\n",
      "e    NaN       9\n",
      "\n",
      "\n",
      "   first  second third\n",
      "0      1     1.1     a\n",
      "1      3     3.5     b\n",
      "2      4     4.7     c\n",
      "3      5     5.8     d\n",
      "4      6     2.9     e\n",
      "5      2     9.3   NaN\n",
      "6      9     NaN   NaN\n",
      "\n",
      "\n",
      "       first     second\n",
      "0  [2, 3, 4]  [2, 4, 8]\n",
      "1  [5, 6, 7]  [1, 3, 9]\n"
     ]
    }
   ],
   "source": [
    "##DataFrames is two-dimensional(2-D) data structure defined in pandas which consists of rows and columns.\n",
    "# Program to Create DataFrame \n",
    "import pandas as pd   # Import Library \n",
    "  \n",
    "a = pd.DataFrame(Data)  # Create DataFrame with Data \n",
    "# Program to Create Data Frame with two dictionaries \n",
    "dict1 ={'a':1, 'b':2, 'c':3, 'd':4}        # Define Dictionary 1 \n",
    "dict2 ={'a':5, 'b':6, 'c':7, 'd':8, 'e':9} # Define Dictionary 2 \n",
    "Data = {'first':dict1, 'second':dict2}  # Define Data with dict1 and dict2 \n",
    "df = pd.DataFrame(Data)  # Create DataFrame \n",
    "print(df)\n",
    "print('\\n')\n",
    "#######################################\n",
    "# Program to create Dataframe of three series  \n",
    "import pandas as pd \n",
    "  \n",
    "s1 = pd.Series([1, 3, 4, 5, 6, 2, 9])           # Define series 1 \n",
    "s2 = pd.Series([1.1, 3.5, 4.7, 5.8, 2.9, 9.3]) # Define series 2 \n",
    "s3 = pd.Series(['a', 'b', 'c', 'd', 'e'])     # Define series 3 \n",
    "\n",
    "Data ={'first':s1, 'second':s2, 'third':s3} # Define Data \n",
    "dfseries = pd.DataFrame(Data)              # Create DataFrame\n",
    "print(dfseries)\n",
    "print('\\n')\n",
    "#######################################\n",
    "# Program to create DataFrame from 2D array \n",
    "import pandas as pd # Import Library \n",
    "d1 =[[2, 3, 4], [5, 6, 7]] # Define 2d array 1 \n",
    "d2 =[[2, 4, 8], [1, 3, 9]] # Define 2d array 2 \n",
    "Data ={'first': d1, 'second': d2} # Define Data  \n",
    "df2d = pd.DataFrame(Data)    # Create DataFrame \n",
    "print(df2d)"
   ]
  },
  {
   "cell_type": "markdown",
   "metadata": {},
   "source": [
    "# Storing DataFrame in CSV Format :\n",
    "\n",
    "Pandas provide to.csv('filename', index = \"False|True\") function to write DataFrame into a CSV file. \n",
    "Here filename is the name of the CSV file that you want to create and index tells that index (if Default) of DataFrame \n",
    "should be overwritten or not. If we set index = False then the index is not overwritten. By Default value of index is TRUE \n",
    "then index is overwritten.\n"
   ]
  },
  {
   "cell_type": "code",
   "execution_count": 1,
   "metadata": {},
   "outputs": [
    {
     "name": "stdout",
     "output_type": "stream",
     "text": [
      "   Geeks  For  Geeks\n",
      "0      0    4      8\n",
      "1      1    5      9\n",
      "2      2    6     10\n"
     ]
    }
   ],
   "source": [
    "import pandas as pd \n",
    "  \n",
    "# assigning three series to s1, s2, s3 \n",
    "s1 = pd.Series([0, 4, 8]) \n",
    "s2 = pd.Series([1, 5, 9]) \n",
    "s3 = pd.Series([2, 6, 10]) \n",
    "  \n",
    "# taking index and column values \n",
    "dframe = pd.DataFrame([s1, s2, s3]) \n",
    "  \n",
    "# assign column name \n",
    "dframe.columns =['Geeks', 'For', 'Geeks'] \n",
    "print(dframe)  \n",
    "# write data to csv file \n",
    "dframe.to_csv('geeksforgeeks.csv', index = False)   \n",
    "dframe.to_csv('geeksforgeeks1.csv', index = True) \n"
   ]
  },
  {
   "cell_type": "markdown",
   "metadata": {},
   "source": [
    "# Drop the missing Data :\n",
    "\n",
    "The Data Analysis Phase also comprises of the ability to handle the missing data from our dataset, and not so \n",
    "surprisingly Pandas live up to that expectation as well. This is where dropna and/or fillna methods comes into the play. \n",
    "While dealing with the missing data, you as a Data Analyst are either supposed to drop the column containing the NaN values \n",
    "(dropna method) or fill in the missing data with mean or mode of the whole column entry (fillna method), this decision is of\n",
    "great significance and depends upon the data and the affect would create in our results.\n",
    "\n",
    "Consider this is the DataFrame generated by below code :"
   ]
  },
  {
   "cell_type": "code",
   "execution_count": 31,
   "metadata": {},
   "outputs": [
    {
     "name": "stdout",
     "output_type": "stream",
     "text": [
      "   Geeks   For  geeks\n",
      "0     23  10.0    0.0\n",
      "   Geeks   For  geeks\n",
      "0     23  10.0    0.0\n"
     ]
    }
   ],
   "source": [
    "import pandas as pd \n",
    "import numpy as np\n",
    "# Create a DataFrame \n",
    "dframe = pd.DataFrame({'Geeks': [23, 24, 22], 'For': [10, 12, np.nan], 'geeks': [0, np.nan, np.nan]})\n",
    "# This will remove all the rows with NAN values \n",
    "\n",
    "# If axis is not defined then it is along rows i.e. axis = 0 \n",
    "dframe.dropna(inplace = True) \n",
    "print(dframe) \n",
    "\n",
    "# if axis is equal to 1 \n",
    "dframe.dropna(axis = 1, inplace = True) \n",
    "\n",
    "print(dframe) \n"
   ]
  },
  {
   "cell_type": "markdown",
   "metadata": {},
   "source": [
    "# Fill the missing values :\n",
    "Now, to replace any NaN value with mean or mode of the data, fillna is used, which could replace all the NaN values \n",
    "from a particular column or even in whole DataFrame as per the requirement."
   ]
  },
  {
   "cell_type": "code",
   "execution_count": 32,
   "metadata": {},
   "outputs": [
    {
     "name": "stdout",
     "output_type": "stream",
     "text": [
      "   Geeks   For  geeks\n",
      "0     23  10.0    0.0\n",
      "1     24  12.0    0.0\n",
      "2     22  11.0    0.0\n",
      "   Geeks   For  geeks\n",
      "0     23  10.0    0.0\n",
      "1     24  12.0    0.0\n",
      "2     22  11.0    0.0\n"
     ]
    }
   ],
   "source": [
    "import numpy as np \n",
    "import pandas as pd \n",
    "  \n",
    "# Create a DataFrame \n",
    "dframe = pd.DataFrame({'Geeks': [23, 24, 22],  \n",
    "                        'For': [10, 12, np.nan], \n",
    "                        'geeks': [0, np.nan, np.nan]}, \n",
    "                        columns = ['Geeks', 'For', 'geeks']) \n",
    "  \n",
    "# Use fillna of complete Dataframe  \n",
    "  \n",
    "# value function will be applied on every column \n",
    "dframe.fillna(value = dframe.mean(), inplace = True) \n",
    "print(dframe) \n",
    "  \n",
    "# filling value of one column \n",
    "dframe['For'].fillna(value = dframe['For'].mean(), \n",
    "                                    inplace = True) \n",
    "print(dframe) "
   ]
  },
  {
   "cell_type": "markdown",
   "metadata": {},
   "source": [
    "# Groupby Method (Aggregation) :\n",
    "\n",
    "The groupby method allows us to group together the data based off any row or column, thus we can further apply the\n",
    "aggregate functions to analyze our data. Group series using mapper (dict or key function, apply given function to group,\n",
    "return result as series) or by a series of columns.\n",
    "\n",
    "Consider this is the DataFrame generated by below code :"
   ]
  },
  {
   "cell_type": "code",
   "execution_count": 6,
   "metadata": {},
   "outputs": [],
   "source": [
    "# Import the pandas library, renamed as pd \n",
    "import pandas as pd \n",
    "  \n",
    "# Read IND_data.csv into a DataFrame, assigned to df \n",
    "df = pd.read_csv(\"CountryData.IND.csv\") \n",
    "  \n",
    "# Prints the first 5 rows of a DataFrame as default \n",
    "#df.head() \n",
    "  \n",
    "# Prints no. of rows and columns of a DataFrame \n",
    "#df.shape \n",
    "\n",
    "# prints first 5 rows and every column which replicates df.head() \n",
    "#df.iloc[0:5,:] \n",
    "# prints entire rows and columns \n",
    "#df.iloc[:,:] \n",
    "# prints from 5th rows and first 5 columns \n",
    "#df.iloc[5:,:5] \n",
    "\n",
    "#df['Time period details'].max()\n",
    "\n",
    "#print(dir(df['Time period details']))\n",
    "\n",
    "#df['Series Code'][df['Time period details']==1999]  # Prints all Series Codes which have Time Period details as 1999\n",
    "\n",
    "\n",
    "#df['Time period details'][0]\n",
    "#len(df['Time period details'])\n",
    "#df['Series Code'] = df['Series Code'].replace('IT_USE_ii99','IT_USE_ii00')\n",
    "\n",
    "#df.loc[df['Series Code'] == 'SH_DYN_MORT', 'Sex'] = 'Male'  # Matches Series Code with 'SH_DYN_MORT' and replaces \n",
    "                                                            #those columns Sex with 'Male'\n",
    "\n",
    "#df.to_csv('CountryData.IND.csv')\n",
    "#print(df['Sex'] == 'Female')"
   ]
  },
  {
   "cell_type": "code",
   "execution_count": 101,
   "metadata": {},
   "outputs": [
    {
     "data": {
      "text/plain": [
       "11    SH_STA_MORT\n",
       "12    SH_STA_MORT\n",
       "13    SH_STA_MORT\n",
       "24    SL_EMP_NAGR\n",
       "25    SL_EMP_NAGR\n",
       "Name: Series Code, dtype: object"
      ]
     },
     "execution_count": 101,
     "metadata": {},
     "output_type": "execute_result"
    }
   ],
   "source": [
    "df['Series Code'][df['Sex'] == 'Female']"
   ]
  },
  {
   "cell_type": "code",
   "execution_count": 12,
   "metadata": {},
   "outputs": [
    {
     "name": "stdout",
     "output_type": "stream",
     "text": [
      "         A        B      C          D\n",
      "0  Austria  Germany    hob  Australia\n",
      "1    Spain   France  Italy     Mexico\n"
     ]
    },
    {
     "data": {
      "text/html": [
       "<div>\n",
       "<style scoped>\n",
       "    .dataframe tbody tr th:only-of-type {\n",
       "        vertical-align: middle;\n",
       "    }\n",
       "\n",
       "    .dataframe tbody tr th {\n",
       "        vertical-align: top;\n",
       "    }\n",
       "\n",
       "    .dataframe thead th {\n",
       "        text-align: right;\n",
       "    }\n",
       "</style>\n",
       "<table border=\"1\" class=\"dataframe\">\n",
       "  <thead>\n",
       "    <tr style=\"text-align: right;\">\n",
       "      <th></th>\n",
       "      <th>A</th>\n",
       "      <th>B</th>\n",
       "      <th>C</th>\n",
       "      <th>D</th>\n",
       "    </tr>\n",
       "  </thead>\n",
       "  <tbody>\n",
       "    <tr>\n",
       "      <th>0</th>\n",
       "      <td>Austria</td>\n",
       "      <td>Germany</td>\n",
       "      <td>Test</td>\n",
       "      <td>Kangaroo</td>\n",
       "    </tr>\n",
       "    <tr>\n",
       "      <th>1</th>\n",
       "      <td>Spain</td>\n",
       "      <td>France</td>\n",
       "      <td>Italy</td>\n",
       "      <td>Spider Monkey</td>\n",
       "    </tr>\n",
       "  </tbody>\n",
       "</table>\n",
       "</div>"
      ],
      "text/plain": [
       "         A        B      C              D\n",
       "0  Austria  Germany   Test       Kangaroo\n",
       "1    Spain   France  Italy  Spider Monkey"
      ]
     },
     "execution_count": 12,
     "metadata": {},
     "output_type": "execute_result"
    }
   ],
   "source": [
    "import pandas as pd\n",
    "data = [['Austria', 'Germany', 'hob', 'Australia'],\n",
    "       ['Spain', 'France', 'Italy', 'Mexico']]\n",
    "df = pd.DataFrame(data, columns = ['A','B','C','D'])\n",
    "print(df)\n",
    "## Values to find and their replacements\n",
    "findL = ['Australia', 'Mexico', 'United States', 'hob']\n",
    "replaceL = ['Kangaroo', 'Spider Monkey', 'Eagle', 'Test']\n",
    "## Select column (can be A,B,C,D)\n",
    "#col = 'C';\n",
    "## Find and replace values in the selected column\n",
    "#df[col] = df[col].replace(findL, replaceL)\n",
    "df=df.replace(findL,replaceL)\n",
    "df"
   ]
  },
  {
   "cell_type": "code",
   "execution_count": 13,
   "metadata": {},
   "outputs": [
    {
     "name": "stdout",
     "output_type": "stream",
     "text": [
      "   Geeks  For  geeks\n",
      "0     23   10    122\n",
      "1     24   12    142\n",
      "2     22   13    112\n",
      "3     22   14    122\n",
      "4     23   15    114\n",
      "5     24   16    112\n",
      "       For  geeks\n",
      "Geeks            \n",
      "22      14    122\n",
      "23      15    122\n",
      "24      16    142\n"
     ]
    }
   ],
   "source": [
    "import pandas as pd \n",
    "import numpy as np \n",
    "  \n",
    "# create DataFrame \n",
    "dframe = pd.DataFrame({'Geeks': [23, 24, 22, 22, 23, 24],  \n",
    "                        'For': [10, 12, 13, 14, 15, 16], \n",
    "                        'geeks': [122, 142, 112, 122, 114, 112]}, \n",
    "                        columns = ['Geeks', 'For', 'geeks'])  \n",
    "print(dframe)  \n",
    "# Apply groupby and aggregate function max to find max value of column  \n",
    "# &quot;For&quot; and column &quot;geeks&quot; for every different value of column &quot;Geeks&quot;. \n",
    "print(dframe.groupby(['Geeks']).max()) "
   ]
  },
  {
   "cell_type": "code",
   "execution_count": 103,
   "metadata": {},
   "outputs": [],
   "source": [
    "d={'k1':1,'k2':2,'k3':3,4:'four'}"
   ]
  },
  {
   "cell_type": "code",
   "execution_count": 154,
   "metadata": {},
   "outputs": [],
   "source": [
    "# d['k1']\n",
    "# d.pop('k1')\n",
    "# d.popitem()\n",
    "# d\n",
    "# d.clear()\n",
    "d\n",
    "d[0]='abc'\n",
    "d[1]='def'\n",
    "d['k'] = 'ghi'\n",
    "d['m']= 1,2,3,4\n",
    "d['l'] =[1,2,3,4]\n",
    "# print(d.items())\n",
    "# print(d.values())\n",
    "# for v in d.values():\n",
    "#     print(v)\n",
    "# for k in d.keys():\n",
    "#     print(d[k])\n"
   ]
  },
  {
   "cell_type": "code",
   "execution_count": 158,
   "metadata": {},
   "outputs": [
    {
     "name": "stdout",
     "output_type": "stream",
     "text": [
      "{1: '111', 0: 'abc', 'k': 'ghi', 'm': (1, 2, 3, 4), 'l': [1, 2, 3, 4]}\n",
      "2782167317744\n",
      "dict_items([(1, '111'), (0, 'abc'), ('k', 'ghi'), ('m', (1, 2, 3, 4)), ('l', [1, 2, 3, 4])])\n",
      "{1: '111', 0: 'abc', 'k': 'ghi', 'm': (1, 2, 3, 4), 'l': [1, 2, 3, 4]}\n"
     ]
    }
   ],
   "source": [
    "print(d)\n",
    "print(id(d))\n",
    "print(d.items())\n",
    "d[1]='111'\n",
    "print(d)"
   ]
  },
  {
   "cell_type": "code",
   "execution_count": 107,
   "metadata": {},
   "outputs": [
    {
     "data": {
      "text/plain": [
       "dict_items([('k1', 1), ('k2', 2), ('k3', 3)])"
      ]
     },
     "execution_count": 107,
     "metadata": {},
     "output_type": "execute_result"
    }
   ],
   "source": [
    "d.items()\n",
    "#type(d.items())"
   ]
  },
  {
   "cell_type": "code",
   "execution_count": 19,
   "metadata": {},
   "outputs": [
    {
     "name": "stdout",
     "output_type": "stream",
     "text": [
      "['Geeksforgeeks', 'is', 'best', 'Computer', 'Science', 'Portal', 'is', 'best']\n",
      "{'is', 'Science', 'Computer', 'Portal', 'Geeksforgeeks', 'best'}\n",
      "<class 'tuple'>\n",
      "[1]\n",
      "<class 'list'>\n",
      "1\n",
      "<class 'int'>\n",
      "(1,)\n",
      "<class 'tuple'>\n",
      "<class 'set'>\n",
      "('Hi', 'Hi', 'Hi', 'Hi')\n",
      "('Hi', 'Hi', 'Hi', 'Hi')\n",
      "{1, 2, 3}\n",
      "{2, 3, 4}\n",
      "(1, 1, 1, 2, 2, 3, 3)\n",
      "hello 1 2\n"
     ]
    }
   ],
   "source": [
    "test_string = \"Geeksforgeeks is best Computer Science Portal is best\"\n",
    "len(test_string.split())\n",
    "print(test_string.split())\n",
    "out = set(test_string.split())\n",
    "print(out)\n",
    "\n",
    "k=()\n",
    "print(type(k))\n",
    "\n",
    "t=[1]\n",
    "print(t)\n",
    "print(type(t))\n",
    "\n",
    "t=(1)\n",
    "print(t)\n",
    "print(type(t))\n",
    "\n",
    "t=(1,) # Tuple with single element should be ',' separated. Otherwise it will be treated as Int value \n",
    "print(t)\n",
    "print(type(t))\n",
    "\n",
    "s ={0}\n",
    "print(type(s))\n",
    "\n",
    "s = ('Hi') # Same as string value\n",
    "#s='Hi'\n",
    "print(s*4)\n",
    "\n",
    "s = ('Hi',)\n",
    "print(s*4)\n",
    "\n",
    "s1 = set([1,2,3])\n",
    "s2 = set({2,3,4})\n",
    "print(s1)\n",
    "print(s2)\n",
    "\n",
    "t1=(1,1,1,)\n",
    "t2=(2,2,3,3)\n",
    "t3 = t1+t2\n",
    "print(t3)\n",
    "#print(t1-t2) Unsupported\n",
    "\n",
    "print(\"hello {} {}\".format(1,2))"
   ]
  },
  {
   "cell_type": "code",
   "execution_count": 180,
   "metadata": {},
   "outputs": [
    {
     "name": "stdout",
     "output_type": "stream",
     "text": [
      "(1, 2, 3, 4)\n",
      "(1, 2, 3, 4)\n"
     ]
    }
   ],
   "source": [
    "t = (1,2,3,4)\n",
    "print(t)\n",
    "t\n",
    "print(t)\n",
    "#print(dir(t))"
   ]
  },
  {
   "cell_type": "code",
   "execution_count": 29,
   "metadata": {},
   "outputs": [
    {
     "data": {
      "text/html": [
       "<div>\n",
       "<style scoped>\n",
       "    .dataframe tbody tr th:only-of-type {\n",
       "        vertical-align: middle;\n",
       "    }\n",
       "\n",
       "    .dataframe tbody tr th {\n",
       "        vertical-align: top;\n",
       "    }\n",
       "\n",
       "    .dataframe thead th {\n",
       "        text-align: right;\n",
       "    }\n",
       "</style>\n",
       "<table border=\"1\" class=\"dataframe\">\n",
       "  <thead>\n",
       "    <tr style=\"text-align: right;\">\n",
       "      <th></th>\n",
       "      <th>1</th>\n",
       "      <th>2</th>\n",
       "      <th>3</th>\n",
       "      <th>4</th>\n",
       "      <th>5</th>\n",
       "      <th>6</th>\n",
       "    </tr>\n",
       "  </thead>\n",
       "  <tbody>\n",
       "    <tr>\n",
       "      <th>a</th>\n",
       "      <td>7</td>\n",
       "      <td>11</td>\n",
       "      <td>15</td>\n",
       "      <td>28</td>\n",
       "      <td>15</td>\n",
       "      <td>NaN</td>\n",
       "    </tr>\n",
       "    <tr>\n",
       "      <th>b</th>\n",
       "      <td>21</td>\n",
       "      <td>27</td>\n",
       "      <td>2</td>\n",
       "      <td>17</td>\n",
       "      <td>14</td>\n",
       "      <td>17.0</td>\n",
       "    </tr>\n",
       "  </tbody>\n",
       "</table>\n",
       "</div>"
      ],
      "text/plain": [
       "    1   2   3   4   5     6\n",
       "a   7  11  15  28  15   NaN\n",
       "b  21  27   2  17  14  17.0"
      ]
     },
     "execution_count": 29,
     "metadata": {},
     "output_type": "execute_result"
    }
   ],
   "source": [
    "df=pd.DataFrame([np.random.randint(0,30,5),np.random.randint(0,30,6)],index=list('ab'),columns=['1','2','3','4','5','6'])\n",
    "df"
   ]
  },
  {
   "cell_type": "code",
   "execution_count": 56,
   "metadata": {},
   "outputs": [
    {
     "data": {
      "text/html": [
       "<div>\n",
       "<style scoped>\n",
       "    .dataframe tbody tr th:only-of-type {\n",
       "        vertical-align: middle;\n",
       "    }\n",
       "\n",
       "    .dataframe tbody tr th {\n",
       "        vertical-align: top;\n",
       "    }\n",
       "\n",
       "    .dataframe thead th {\n",
       "        text-align: right;\n",
       "    }\n",
       "</style>\n",
       "<table border=\"1\" class=\"dataframe\">\n",
       "  <thead>\n",
       "    <tr style=\"text-align: right;\">\n",
       "      <th></th>\n",
       "      <th>1</th>\n",
       "      <th>2</th>\n",
       "      <th>3</th>\n",
       "      <th>4</th>\n",
       "      <th>5</th>\n",
       "      <th>6</th>\n",
       "    </tr>\n",
       "  </thead>\n",
       "  <tbody>\n",
       "    <tr>\n",
       "      <th>a</th>\n",
       "      <td>7</td>\n",
       "      <td>11</td>\n",
       "      <td>15</td>\n",
       "      <td>28</td>\n",
       "      <td>15</td>\n",
       "      <td>NaN</td>\n",
       "    </tr>\n",
       "    <tr>\n",
       "      <th>b</th>\n",
       "      <td>21</td>\n",
       "      <td>27</td>\n",
       "      <td>2</td>\n",
       "      <td>17</td>\n",
       "      <td>14</td>\n",
       "      <td>17.0</td>\n",
       "    </tr>\n",
       "  </tbody>\n",
       "</table>\n",
       "</div>"
      ],
      "text/plain": [
       "    1   2   3   4   5     6\n",
       "a   7  11  15  28  15   NaN\n",
       "b  21  27   2  17  14  17.0"
      ]
     },
     "execution_count": 56,
     "metadata": {},
     "output_type": "execute_result"
    }
   ],
   "source": [
    "df.iloc[:3,:2]\n",
    "df.loc['a']\n",
    "df.loc['a':'b']\n",
    "#df.iloc[1,1]"
   ]
  },
  {
   "cell_type": "code",
   "execution_count": 2,
   "metadata": {},
   "outputs": [
    {
     "name": "stdout",
     "output_type": "stream",
     "text": [
      "<class 'str'>\n",
      "name\n",
      "nme\n",
      "<class 'str'>\n",
      "degree\n",
      "deg\n",
      "<class 'str'>\n",
      "score\n",
      "scr\n",
      "<class 'tuple'>\n",
      "('name', 'nme')\n",
      "<class 'tuple'>\n",
      "('degree', 'deg')\n",
      "<class 'tuple'>\n",
      "('score', 'scr')\n"
     ]
    }
   ],
   "source": [
    "dict = {'name': 'nme', 'degree': 'deg', 'score': 'scr'}  \n",
    "for k,v in dict.items():\n",
    "    print(type(k))\n",
    "    print(k)\n",
    "    print(v)\n",
    "for i in dict.items():\n",
    "    print(type(i))\n",
    "    print(i)"
   ]
  },
  {
   "cell_type": "code",
   "execution_count": 40,
   "metadata": {},
   "outputs": [
    {
     "data": {
      "text/html": [
       "<div>\n",
       "<style scoped>\n",
       "    .dataframe tbody tr th:only-of-type {\n",
       "        vertical-align: middle;\n",
       "    }\n",
       "\n",
       "    .dataframe tbody tr th {\n",
       "        vertical-align: top;\n",
       "    }\n",
       "\n",
       "    .dataframe thead th {\n",
       "        text-align: right;\n",
       "    }\n",
       "</style>\n",
       "<table border=\"1\" class=\"dataframe\">\n",
       "  <thead>\n",
       "    <tr style=\"text-align: right;\">\n",
       "      <th></th>\n",
       "      <th>marks</th>\n",
       "      <th>score</th>\n",
       "      <th>result</th>\n",
       "    </tr>\n",
       "    <tr>\n",
       "      <th>name</th>\n",
       "      <th></th>\n",
       "      <th></th>\n",
       "      <th></th>\n",
       "    </tr>\n",
       "  </thead>\n",
       "  <tbody>\n",
       "    <tr>\n",
       "      <th>Ajay</th>\n",
       "      <td>12</td>\n",
       "      <td>23</td>\n",
       "      <td>Not Equal</td>\n",
       "    </tr>\n",
       "    <tr>\n",
       "      <th>Arun</th>\n",
       "      <td>13</td>\n",
       "      <td>24</td>\n",
       "      <td>Not Equal</td>\n",
       "    </tr>\n",
       "    <tr>\n",
       "      <th>Varun</th>\n",
       "      <td>14</td>\n",
       "      <td>14</td>\n",
       "      <td>Equal</td>\n",
       "    </tr>\n",
       "  </tbody>\n",
       "</table>\n",
       "</div>"
      ],
      "text/plain": [
       "       marks  score     result\n",
       "name                          \n",
       "Ajay      12     23  Not Equal\n",
       "Arun      13     24  Not Equal\n",
       "Varun     14     14      Equal"
      ]
     },
     "execution_count": 40,
     "metadata": {},
     "output_type": "execute_result"
    }
   ],
   "source": [
    "import pandas as pd\n",
    "di = {'name': ['Ajay', 'Arun', 'Varun','Nurun'], 'marks':[12,13,14,15], 'score':[23,24,14,15]}\n",
    "df=pd.DataFrame(di)\n",
    "df\n",
    "def compare(df):\n",
    "    if df['marks'] == df['score']:\n",
    "        return 'Equal'\n",
    "    else:\n",
    "        return 'Not Equal'\n",
    "# s1 = pd.Series(df['marks'])\n",
    "# s1\n",
    "# s2 = pd.Series(df['score'])\n",
    "\n",
    "# df['result'] = s1.eq(s2)\n",
    "\n",
    "df['result'] = df.apply(compare,axis=1)\n",
    "#print(df)\n",
    "df.set_index('name',inplace=True)\n",
    "#df.reset_index(inplace=True)\n",
    "df\n",
    "#df.loc['Varun']\n",
    "df.loc['Arun']\n",
    "df.iloc[0:3]"
   ]
  },
  {
   "cell_type": "code",
   "execution_count": 45,
   "metadata": {},
   "outputs": [
    {
     "name": "stdout",
     "output_type": "stream",
     "text": [
      "10\n",
      "2\n",
      "3\n",
      "4\n",
      "5\n",
      "6\n"
     ]
    }
   ],
   "source": [
    "li = [10,2,3,4,5,6]\n",
    "for x in li:\n",
    "    print(x)\n",
    "    \n",
    "for i in range(len(li)):\n",
    "    print(li[i])\n",
    "    \n",
    "x = [x for x in li if x%2 is not 0]\n",
    "x"
   ]
  },
  {
   "cell_type": "code",
   "execution_count": 46,
   "metadata": {},
   "outputs": [
    {
     "data": {
      "text/html": [
       "<div>\n",
       "<style scoped>\n",
       "    .dataframe tbody tr th:only-of-type {\n",
       "        vertical-align: middle;\n",
       "    }\n",
       "\n",
       "    .dataframe tbody tr th {\n",
       "        vertical-align: top;\n",
       "    }\n",
       "\n",
       "    .dataframe thead th {\n",
       "        text-align: right;\n",
       "    }\n",
       "</style>\n",
       "<table border=\"1\" class=\"dataframe\">\n",
       "  <thead>\n",
       "    <tr style=\"text-align: right;\">\n",
       "      <th></th>\n",
       "      <th>name</th>\n",
       "      <th>marks</th>\n",
       "      <th>score</th>\n",
       "    </tr>\n",
       "  </thead>\n",
       "  <tbody>\n",
       "    <tr>\n",
       "      <th>0</th>\n",
       "      <td>Ajay</td>\n",
       "      <td>12</td>\n",
       "      <td>23</td>\n",
       "    </tr>\n",
       "    <tr>\n",
       "      <th>1</th>\n",
       "      <td>Arun</td>\n",
       "      <td>13</td>\n",
       "      <td>24</td>\n",
       "    </tr>\n",
       "    <tr>\n",
       "      <th>2</th>\n",
       "      <td>Varun</td>\n",
       "      <td>14</td>\n",
       "      <td>14</td>\n",
       "    </tr>\n",
       "    <tr>\n",
       "      <th>3</th>\n",
       "      <td>Nurun</td>\n",
       "      <td>15</td>\n",
       "      <td>15</td>\n",
       "    </tr>\n",
       "  </tbody>\n",
       "</table>\n",
       "</div>"
      ],
      "text/plain": [
       "    name  marks  score\n",
       "0   Ajay     12     23\n",
       "1   Arun     13     24\n",
       "2  Varun     14     14\n",
       "3  Nurun     15     15"
      ]
     },
     "execution_count": 46,
     "metadata": {},
     "output_type": "execute_result"
    }
   ],
   "source": [
    "import pandas as pd\n",
    "di = {'name': ['Ajay', 'Arun', 'Varun','Nurun'], 'marks':[12,13,14,15], 'score':[23,24,14,15]}\n",
    "df=pd.DataFrame(di)\n",
    "df"
   ]
  },
  {
   "cell_type": "code",
   "execution_count": 50,
   "metadata": {},
   "outputs": [
    {
     "data": {
      "text/plain": [
       "name     Varun\n",
       "marks       14\n",
       "score       14\n",
       "Name: 2, dtype: object"
      ]
     },
     "execution_count": 50,
     "metadata": {},
     "output_type": "execute_result"
    }
   ],
   "source": [
    "df.loc[2]"
   ]
  },
  {
   "cell_type": "code",
   "execution_count": null,
   "metadata": {},
   "outputs": [],
   "source": []
  }
 ],
 "metadata": {
  "kernelspec": {
   "display_name": "Python 3",
   "language": "python",
   "name": "python3"
  },
  "language_info": {
   "codemirror_mode": {
    "name": "ipython",
    "version": 3
   },
   "file_extension": ".py",
   "mimetype": "text/x-python",
   "name": "python",
   "nbconvert_exporter": "python",
   "pygments_lexer": "ipython3",
   "version": "3.7.3"
  }
 },
 "nbformat": 4,
 "nbformat_minor": 2
}
