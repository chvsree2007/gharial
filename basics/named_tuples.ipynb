{
 "cells": [
  {
   "cell_type": "markdown",
   "metadata": {},
   "source": [
    "# Namedtuple in Python\n",
    "Python supports a type of container like dictionaries called “namedtuples()” present in module, “collection“. Like dictionaries they contain keys that are hashed to a particular value. But on contrary, it supports both access from key value and iteration, the functionality that dictionaries lack.\n",
    "\n",
    "Operations on namedtuple() :\n",
    "\n",
    "Access Operations\n",
    "1. Access by index : The attribute values of namedtuple() are ordered and can be accessed using the index number unlike dictionaries which are not accessible by index.\n",
    "\n",
    "2. Access by keyname : Access by keyname is also allowed as in dictionaries.\n",
    "\n",
    "3. using getattr() : This is yet another way to access the value by giving namedtuple and key value as its argument."
   ]
  },
  {
   "cell_type": "code",
   "execution_count": 1,
   "metadata": {},
   "outputs": [
    {
     "name": "stdout",
     "output_type": "stream",
     "text": [
      "The Student age using index is : 19\n",
      "The Student name using keyname is : Nandini\n",
      "The Student DOB using getattr() is : 2541997\n"
     ]
    }
   ],
   "source": [
    "# Python code to demonstrate namedtuple() and Access by name, index and getattr() \n",
    "  \n",
    "# importing \"collections\" for namedtuple() \n",
    "import collections \n",
    "  \n",
    "# Declaring namedtuple() \n",
    "Student = collections.namedtuple('Student',['name','age','DOB']) \n",
    "  \n",
    "# Adding values \n",
    "S = Student('Nandini','19','2541997') \n",
    "  \n",
    "# Access using index \n",
    "print (\"The Student age using index is : \",end =\"\") \n",
    "print (S[1]) \n",
    "  \n",
    "# Access using name  \n",
    "print (\"The Student name using keyname is : \",end =\"\") \n",
    "print (S.name) \n",
    "  \n",
    "# Access using getattr() \n",
    "print (\"The Student DOB using getattr() is : \",end =\"\") \n",
    "print (getattr(S,'DOB')) "
   ]
  },
  {
   "cell_type": "raw",
   "metadata": {},
   "source": [
    "Conversion Operations\n",
    "1. _make() :- This function is used to return a namedtuple() from the iterable passed as argument.\n",
    "\n",
    "2. _asdict() :- This function returns the OrdereDict() as constructed from the mapped values of namedtuple().\n",
    "\n",
    "3. using “**” (double star) operator :- This function is used to convert a dictionary into the namedtuple()."
   ]
  },
  {
   "cell_type": "code",
   "execution_count": 2,
   "metadata": {},
   "outputs": [
    {
     "name": "stdout",
     "output_type": "stream",
     "text": [
      "The namedtuple instance using iterable is : \n",
      "Student(name='Manjeet', age='19', DOB='411997')\n",
      "The OrderedDict instance using namedtuple is : \n",
      "OrderedDict([('name', 'Nandini'), ('age', '19'), ('DOB', '2541997')])\n",
      "The namedtuple instance from dict is : \n",
      "Student(name='Nikhil', age=19, DOB='1391997')\n"
     ]
    }
   ],
   "source": [
    "# Python code to demonstrate namedtuple() and _make(), _asdict() and \"**\" operator \n",
    "\n",
    "# importing \"collections\" for namedtuple() \n",
    "import collections \n",
    "\n",
    "# Declaring namedtuple() \n",
    "Student = collections.namedtuple('Student',['name','age','DOB']) \n",
    "\n",
    "# Adding values \n",
    "S = Student('Nandini','19','2541997') \n",
    "\n",
    "# initializing iterable \n",
    "li = ['Manjeet', '19', '411997' ] \n",
    "\n",
    "# initializing dict \n",
    "di = { 'name' : \"Nikhil\", 'age' : 19 , 'DOB' : '1391997' } \n",
    "\n",
    "# using _make() to return namedtuple() \n",
    "print (\"The namedtuple instance using iterable is : \") \n",
    "print (Student._make(li)) \n",
    "\n",
    "# using _asdict() to return an OrderedDict() \n",
    "print (\"The OrderedDict instance using namedtuple is : \") \n",
    "print (S._asdict()) \n",
    "\n",
    "# using ** operator to return namedtuple from dictionary \n",
    "print (\"The namedtuple instance from dict is : \") \n",
    "print (Student(**di)) \n"
   ]
  },
  {
   "cell_type": "raw",
   "metadata": {},
   "source": [
    "Additional Operations\n",
    "\n",
    "1. _fields :- This function is used to return all the keynames of the namespace declared.\n",
    "\n",
    "2. _replace() :- This function is used to change the values mapped with the passed keyname."
   ]
  },
  {
   "cell_type": "code",
   "execution_count": 3,
   "metadata": {},
   "outputs": [
    {
     "name": "stdout",
     "output_type": "stream",
     "text": [
      "All the fields of students are : \n",
      "('name', 'age', 'DOB')\n",
      "The modified namedtuple is : \n",
      "Student(name='Manjeet', age='19', DOB='2541997')\n"
     ]
    }
   ],
   "source": [
    "# Python code to demonstrate namedtuple() and \n",
    "# _fields and _replace() \n",
    "\n",
    "# importing \"collections\" for namedtuple() \n",
    "import collections \n",
    "\n",
    "# Declaring namedtuple() \n",
    "Student = collections.namedtuple('Student',['name','age','DOB']) \n",
    "\n",
    "# Adding values \n",
    "S = Student('Nandini','19','2541997') \n",
    "\n",
    "# using _fields to display all the keynames of namedtuple() \n",
    "print (\"All the fields of students are : \") \n",
    "print (S._fields) \n",
    "\n",
    "# using _replace() to change the attribute values of namedtuple \n",
    "print (\"The modified namedtuple is : \") \n",
    "print(S._replace(name = 'Manjeet')) \n"
   ]
  },
  {
   "cell_type": "raw",
   "metadata": {},
   "source": [
    "zip() in Python\n",
    "The purpose of zip() is to map the similar index of multiple containers so that they can be used just using as single entity.\n",
    "\n",
    "Syntax : \n",
    "zip(*iterators)\n",
    "Parameters : \n",
    "Python iterables or containers ( list, string etc )\n",
    "Return Value : \n",
    "Returns a single iterator object, having mapped values from all the\n",
    "containers."
   ]
  },
  {
   "cell_type": "code",
   "execution_count": 4,
   "metadata": {},
   "outputs": [
    {
     "name": "stdout",
     "output_type": "stream",
     "text": [
      "The zipped result is : {('Manjeet', 4, 40), ('Astha', 2, 70), ('Shambhavi', 3, 60), ('Nikhil', 1, 50)}\n"
     ]
    }
   ],
   "source": [
    "# Python code to demonstrate the working of zip() \n",
    "\n",
    "# Initializing lists \n",
    "name = [ \"Manjeet\", \"Nikhil\", \"Shambhavi\", \"Astha\" ] \n",
    "roll_no = [ 4, 1, 3, 2 ] \n",
    "marks = [ 40, 50, 60, 70 ] \n",
    "\n",
    "# Using zip() to map values \n",
    "mapped = zip(name, roll_no, marks) \n",
    "\n",
    "# converting values to print as set \n",
    "mapped = set(mapped) \n",
    "\n",
    "# printing resultant values \n",
    "print (\"The zipped result is : \",end=\"\") \n",
    "print (mapped)"
   ]
  },
  {
   "cell_type": "code",
   "execution_count": null,
   "metadata": {},
   "outputs": [],
   "source": []
  }
 ],
 "metadata": {
  "kernelspec": {
   "display_name": "Python 3",
   "language": "python",
   "name": "python3"
  },
  "language_info": {
   "codemirror_mode": {
    "name": "ipython",
    "version": 3
   },
   "file_extension": ".py",
   "mimetype": "text/x-python",
   "name": "python",
   "nbconvert_exporter": "python",
   "pygments_lexer": "ipython3",
   "version": "3.7.3"
  }
 },
 "nbformat": 4,
 "nbformat_minor": 2
}
