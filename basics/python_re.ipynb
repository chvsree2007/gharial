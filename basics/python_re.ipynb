{
 "cells": [
  {
   "cell_type": "code",
   "execution_count": 19,
   "metadata": {},
   "outputs": [
    {
     "name": "stdout",
     "output_type": "stream",
     "text": [
      "#\n",
      "['#', '#', '@']\n"
     ]
    }
   ],
   "source": [
    "import re\n",
    "regex = re.compile('[@#$%^&*!~:;><?]')\n",
    "word = \"##helloworld@\"\n",
    "out1 = re.search(regex,word)\n",
    "out2 = re.findall(regex,word)\n",
    "print(out1.group(0))\n",
    "print(out2)"
   ]
  },
  {
   "cell_type": "code",
   "execution_count": 21,
   "metadata": {},
   "outputs": [
    {
     "name": "stdout",
     "output_type": "stream",
     "text": [
      "['12', '11', '10']\n"
     ]
    }
   ],
   "source": [
    "p = re.compile(r'\\d+')\n",
    "out = p.findall('12 drummers drumming, 11 pipers piping, 10 lords a-leaping') # Find all substrings where the RE matches, \n",
    "                                                                              # and returns them as a list.\n",
    "print(out)"
   ]
  },
  {
   "cell_type": "code",
   "execution_count": 22,
   "metadata": {},
   "outputs": [
    {
     "name": "stdout",
     "output_type": "stream",
     "text": [
      "<callable_iterator object at 0x0000012CE07C40B8>\n",
      "(0, 2)\n",
      "(22, 24)\n",
      "(29, 31)\n"
     ]
    }
   ],
   "source": [
    "iterator = p.finditer('12 drummers drumming, 11 ... 10 ...') # Find all substrings where the RE matches, and returns \n",
    "                                                             # them as an iterator.\n",
    "print(iterator)  \n",
    "for match in iterator:\n",
    "    print(match.span()) # span() Return a tuple containing the (start, end) positions of the match\n"
   ]
  },
  {
   "cell_type": "markdown",
   "metadata": {},
   "source": [
    "# Method/Attribute\n",
    "group()  Return the string matched by the RE\n",
    "start()  Return the starting position of the match\n",
    "end()    Return the ending position of the match\n",
    "span()   Return a tuple containing the (start, end) positions of the match"
   ]
  },
  {
   "cell_type": "code",
   "execution_count": 25,
   "metadata": {},
   "outputs": [
    {
     "data": {
      "text/plain": [
       "re.compile(r'[a-z]+', re.UNICODE)"
      ]
     },
     "execution_count": 25,
     "metadata": {},
     "output_type": "execute_result"
    }
   ],
   "source": [
    "import re\n",
    "p = re.compile('[a-z]+')\n",
    "p"
   ]
  },
  {
   "cell_type": "code",
   "execution_count": 26,
   "metadata": {},
   "outputs": [
    {
     "data": {
      "text/plain": [
       "<re.Match object; span=(0, 5), match='tempo'>"
      ]
     },
     "execution_count": 26,
     "metadata": {},
     "output_type": "execute_result"
    }
   ],
   "source": [
    "m = p.match('tempo')\n",
    "m"
   ]
  },
  {
   "cell_type": "code",
   "execution_count": 27,
   "metadata": {},
   "outputs": [
    {
     "data": {
      "text/plain": [
       "(0, 5)"
      ]
     },
     "execution_count": 27,
     "metadata": {},
     "output_type": "execute_result"
    }
   ],
   "source": [
    "m.group()\n",
    "m.start(), m.end()\n",
    "m.span()"
   ]
  },
  {
   "cell_type": "code",
   "execution_count": null,
   "metadata": {},
   "outputs": [],
   "source": []
  }
 ],
 "metadata": {
  "kernelspec": {
   "display_name": "Python 3",
   "language": "python",
   "name": "python3"
  },
  "language_info": {
   "codemirror_mode": {
    "name": "ipython",
    "version": 3
   },
   "file_extension": ".py",
   "mimetype": "text/x-python",
   "name": "python",
   "nbconvert_exporter": "python",
   "pygments_lexer": "ipython3",
   "version": "3.7.3"
  }
 },
 "nbformat": 4,
 "nbformat_minor": 2
}
